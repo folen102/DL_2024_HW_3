{
 "cells": [
  {
   "cell_type": "code",
   "execution_count": 1,
   "metadata": {},
   "outputs": [
    {
     "name": "stderr",
     "output_type": "stream",
     "text": [
      "Reading from file: 100%|██████████| 496059/496059 [00:07<00:00, 67101.27it/s]\n"
     ]
    },
    {
     "name": "stdout",
     "output_type": "stream",
     "text": [
      "Примеры предложений:\n",
      "go  -->  марш\n",
      "go  -->  иди\n",
      "go  -->  идите\n"
     ]
    }
   ],
   "source": [
    "from src.data.utils import TextUtils, short_text_filter_function\n",
    "\n",
    "def prepare_data(filepath, max_length=15):\n",
    "    pairs = TextUtils.read_langs_pairs_from_file(filename=filepath)\n",
    "    \n",
    "    filtered_pairs = [pair for pair in pairs if short_text_filter_function(pair, max_length=max_length)]\n",
    "    \n",
    "    english_sentences = [pair[0] for pair in filtered_pairs]\n",
    "    russian_sentences = [pair[1] for pair in filtered_pairs]\n",
    "\n",
    "    return english_sentences, russian_sentences\n",
    "\n",
    "english, russian = prepare_data('data/rus.txt')\n",
    "print(\"Примеры предложений:\")\n",
    "for i in range(3):\n",
    "    print(english[i], \" --> \", russian[i])\n"
   ]
  },
  {
   "cell_type": "code",
   "execution_count": 2,
   "metadata": {},
   "outputs": [],
   "source": [
    "from src.data.bpe_tokenizer import BPETokenizer"
   ]
  },
  {
   "cell_type": "code",
   "execution_count": 3,
   "metadata": {},
   "outputs": [],
   "source": [
    "source_tokenizer = BPETokenizer(english)\n",
    "target_tokenizer = BPETokenizer(russian)"
   ]
  },
  {
   "cell_type": "code",
   "execution_count": 4,
   "metadata": {},
   "outputs": [],
   "source": [
    "source_tokenizer.tokenizer.save(\"source_tokenizer.json\")\n",
    "target_tokenizer.tokenizer.save(\"target_tokenizer.json\")"
   ]
  },
  {
   "cell_type": "code",
   "execution_count": null,
   "metadata": {},
   "outputs": [],
   "source": []
  }
 ],
 "metadata": {
  "kernelspec": {
   "display_name": "ML311",
   "language": "python",
   "name": "python3"
  },
  "language_info": {
   "codemirror_mode": {
    "name": "ipython",
    "version": 3
   },
   "file_extension": ".py",
   "mimetype": "text/x-python",
   "name": "python",
   "nbconvert_exporter": "python",
   "pygments_lexer": "ipython3",
   "version": "3.11.9"
  }
 },
 "nbformat": 4,
 "nbformat_minor": 2
}
